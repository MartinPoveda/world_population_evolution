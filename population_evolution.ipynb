{
 "cells": [
  {
   "cell_type": "code",
   "execution_count": 1,
   "id": "2534f6a2",
   "metadata": {},
   "outputs": [],
   "source": [
    "import numpy as np\n",
    "import pandas as pd\n",
    "import json\n",
    "import matplotlib.pyplot as plt\n",
    "\n",
    "%matplotlib inline"
   ]
  },
  {
   "cell_type": "code",
   "execution_count": 2,
   "id": "1c7e993f",
   "metadata": {},
   "outputs": [],
   "source": [
    "population_csv_path = \"data\\WPP2019_TotalPopulationBySex.csv\"\n",
    "population_df = pd.read_csv(population_csv_path)"
   ]
  },
  {
   "cell_type": "code",
   "execution_count": 3,
   "id": "eddfdc19",
   "metadata": {},
   "outputs": [
    {
     "data": {
      "text/html": [
       "<div>\n",
       "<style scoped>\n",
       "    .dataframe tbody tr th:only-of-type {\n",
       "        vertical-align: middle;\n",
       "    }\n",
       "\n",
       "    .dataframe tbody tr th {\n",
       "        vertical-align: top;\n",
       "    }\n",
       "\n",
       "    .dataframe thead th {\n",
       "        text-align: right;\n",
       "    }\n",
       "</style>\n",
       "<table border=\"1\" class=\"dataframe\">\n",
       "  <thead>\n",
       "    <tr style=\"text-align: right;\">\n",
       "      <th></th>\n",
       "      <th>LocID</th>\n",
       "      <th>Location</th>\n",
       "      <th>VarID</th>\n",
       "      <th>Variant</th>\n",
       "      <th>Time</th>\n",
       "      <th>MidPeriod</th>\n",
       "      <th>PopMale</th>\n",
       "      <th>PopFemale</th>\n",
       "      <th>PopTotal</th>\n",
       "      <th>PopDensity</th>\n",
       "    </tr>\n",
       "  </thead>\n",
       "  <tbody>\n",
       "    <tr>\n",
       "      <th>0</th>\n",
       "      <td>4</td>\n",
       "      <td>Afghanistan</td>\n",
       "      <td>2</td>\n",
       "      <td>Medium</td>\n",
       "      <td>1950</td>\n",
       "      <td>1950.5</td>\n",
       "      <td>4099.243</td>\n",
       "      <td>3652.874</td>\n",
       "      <td>7752.117</td>\n",
       "      <td>11.874</td>\n",
       "    </tr>\n",
       "    <tr>\n",
       "      <th>1</th>\n",
       "      <td>4</td>\n",
       "      <td>Afghanistan</td>\n",
       "      <td>2</td>\n",
       "      <td>Medium</td>\n",
       "      <td>1951</td>\n",
       "      <td>1951.5</td>\n",
       "      <td>4134.756</td>\n",
       "      <td>3705.395</td>\n",
       "      <td>7840.151</td>\n",
       "      <td>12.009</td>\n",
       "    </tr>\n",
       "    <tr>\n",
       "      <th>2</th>\n",
       "      <td>4</td>\n",
       "      <td>Afghanistan</td>\n",
       "      <td>2</td>\n",
       "      <td>Medium</td>\n",
       "      <td>1952</td>\n",
       "      <td>1952.5</td>\n",
       "      <td>4174.450</td>\n",
       "      <td>3761.546</td>\n",
       "      <td>7935.996</td>\n",
       "      <td>12.156</td>\n",
       "    </tr>\n",
       "    <tr>\n",
       "      <th>3</th>\n",
       "      <td>4</td>\n",
       "      <td>Afghanistan</td>\n",
       "      <td>2</td>\n",
       "      <td>Medium</td>\n",
       "      <td>1953</td>\n",
       "      <td>1953.5</td>\n",
       "      <td>4218.336</td>\n",
       "      <td>3821.348</td>\n",
       "      <td>8039.684</td>\n",
       "      <td>12.315</td>\n",
       "    </tr>\n",
       "    <tr>\n",
       "      <th>4</th>\n",
       "      <td>4</td>\n",
       "      <td>Afghanistan</td>\n",
       "      <td>2</td>\n",
       "      <td>Medium</td>\n",
       "      <td>1954</td>\n",
       "      <td>1954.5</td>\n",
       "      <td>4266.484</td>\n",
       "      <td>3884.832</td>\n",
       "      <td>8151.316</td>\n",
       "      <td>12.486</td>\n",
       "    </tr>\n",
       "    <tr>\n",
       "      <th>5</th>\n",
       "      <td>4</td>\n",
       "      <td>Afghanistan</td>\n",
       "      <td>2</td>\n",
       "      <td>Medium</td>\n",
       "      <td>1955</td>\n",
       "      <td>1955.5</td>\n",
       "      <td>4318.945</td>\n",
       "      <td>3952.047</td>\n",
       "      <td>8270.992</td>\n",
       "      <td>12.669</td>\n",
       "    </tr>\n",
       "    <tr>\n",
       "      <th>6</th>\n",
       "      <td>4</td>\n",
       "      <td>Afghanistan</td>\n",
       "      <td>2</td>\n",
       "      <td>Medium</td>\n",
       "      <td>1956</td>\n",
       "      <td>1956.5</td>\n",
       "      <td>4375.800</td>\n",
       "      <td>4023.073</td>\n",
       "      <td>8398.873</td>\n",
       "      <td>12.865</td>\n",
       "    </tr>\n",
       "    <tr>\n",
       "      <th>7</th>\n",
       "      <td>4</td>\n",
       "      <td>Afghanistan</td>\n",
       "      <td>2</td>\n",
       "      <td>Medium</td>\n",
       "      <td>1957</td>\n",
       "      <td>1957.5</td>\n",
       "      <td>4437.157</td>\n",
       "      <td>4098.000</td>\n",
       "      <td>8535.157</td>\n",
       "      <td>13.073</td>\n",
       "    </tr>\n",
       "    <tr>\n",
       "      <th>8</th>\n",
       "      <td>4</td>\n",
       "      <td>Afghanistan</td>\n",
       "      <td>2</td>\n",
       "      <td>Medium</td>\n",
       "      <td>1958</td>\n",
       "      <td>1958.5</td>\n",
       "      <td>4503.156</td>\n",
       "      <td>4176.941</td>\n",
       "      <td>8680.097</td>\n",
       "      <td>13.295</td>\n",
       "    </tr>\n",
       "    <tr>\n",
       "      <th>9</th>\n",
       "      <td>4</td>\n",
       "      <td>Afghanistan</td>\n",
       "      <td>2</td>\n",
       "      <td>Medium</td>\n",
       "      <td>1959</td>\n",
       "      <td>1959.5</td>\n",
       "      <td>4573.914</td>\n",
       "      <td>4260.033</td>\n",
       "      <td>8833.947</td>\n",
       "      <td>13.531</td>\n",
       "    </tr>\n",
       "  </tbody>\n",
       "</table>\n",
       "</div>"
      ],
      "text/plain": [
       "   LocID     Location  VarID Variant  Time  MidPeriod   PopMale  PopFemale  \\\n",
       "0      4  Afghanistan      2  Medium  1950     1950.5  4099.243   3652.874   \n",
       "1      4  Afghanistan      2  Medium  1951     1951.5  4134.756   3705.395   \n",
       "2      4  Afghanistan      2  Medium  1952     1952.5  4174.450   3761.546   \n",
       "3      4  Afghanistan      2  Medium  1953     1953.5  4218.336   3821.348   \n",
       "4      4  Afghanistan      2  Medium  1954     1954.5  4266.484   3884.832   \n",
       "5      4  Afghanistan      2  Medium  1955     1955.5  4318.945   3952.047   \n",
       "6      4  Afghanistan      2  Medium  1956     1956.5  4375.800   4023.073   \n",
       "7      4  Afghanistan      2  Medium  1957     1957.5  4437.157   4098.000   \n",
       "8      4  Afghanistan      2  Medium  1958     1958.5  4503.156   4176.941   \n",
       "9      4  Afghanistan      2  Medium  1959     1959.5  4573.914   4260.033   \n",
       "\n",
       "   PopTotal  PopDensity  \n",
       "0  7752.117      11.874  \n",
       "1  7840.151      12.009  \n",
       "2  7935.996      12.156  \n",
       "3  8039.684      12.315  \n",
       "4  8151.316      12.486  \n",
       "5  8270.992      12.669  \n",
       "6  8398.873      12.865  \n",
       "7  8535.157      13.073  \n",
       "8  8680.097      13.295  \n",
       "9  8833.947      13.531  "
      ]
     },
     "execution_count": 3,
     "metadata": {},
     "output_type": "execute_result"
    }
   ],
   "source": [
    "population_df.head(10)"
   ]
  },
  {
   "cell_type": "code",
   "execution_count": 4,
   "id": "550972f9",
   "metadata": {},
   "outputs": [
    {
     "data": {
      "text/plain": [
       "477"
      ]
     },
     "execution_count": 4,
     "metadata": {},
     "output_type": "execute_result"
    }
   ],
   "source": [
    "# How many LocID do we have ?\n",
    "len(population_df[\"LocID\"].drop_duplicates().values)"
   ]
  },
  {
   "cell_type": "code",
   "execution_count": 5,
   "id": "7c8a4cf7",
   "metadata": {},
   "outputs": [
    {
     "data": {
      "text/plain": [
       "474"
      ]
     },
     "execution_count": 5,
     "metadata": {},
     "output_type": "execute_result"
    }
   ],
   "source": [
    "# How many location do we have ?\n",
    "len(population_df[\"Location\"].drop_duplicates().values)"
   ]
  },
  {
   "cell_type": "markdown",
   "id": "a003f0b2",
   "metadata": {},
   "source": [
    "**Location is different from countries**. The first task is to keep only countries (193 recongnized by the United Nations)"
   ]
  },
  {
   "cell_type": "code",
   "execution_count": 6,
   "id": "53cd556a",
   "metadata": {},
   "outputs": [],
   "source": [
    "countries_df = pd.read_json('data/countries.json')"
   ]
  },
  {
   "cell_type": "code",
   "execution_count": 7,
   "id": "2706b644",
   "metadata": {},
   "outputs": [
    {
     "data": {
      "text/html": [
       "<div>\n",
       "<style scoped>\n",
       "    .dataframe tbody tr th:only-of-type {\n",
       "        vertical-align: middle;\n",
       "    }\n",
       "\n",
       "    .dataframe tbody tr th {\n",
       "        vertical-align: top;\n",
       "    }\n",
       "\n",
       "    .dataframe thead th {\n",
       "        text-align: right;\n",
       "    }\n",
       "</style>\n",
       "<table border=\"1\" class=\"dataframe\">\n",
       "  <thead>\n",
       "    <tr style=\"text-align: right;\">\n",
       "      <th></th>\n",
       "      <th>id</th>\n",
       "      <th>alpha2</th>\n",
       "      <th>alpha3</th>\n",
       "      <th>name</th>\n",
       "    </tr>\n",
       "  </thead>\n",
       "  <tbody>\n",
       "    <tr>\n",
       "      <th>0</th>\n",
       "      <td>4</td>\n",
       "      <td>af</td>\n",
       "      <td>afg</td>\n",
       "      <td>Afghanistan</td>\n",
       "    </tr>\n",
       "    <tr>\n",
       "      <th>1</th>\n",
       "      <td>8</td>\n",
       "      <td>al</td>\n",
       "      <td>alb</td>\n",
       "      <td>Albania</td>\n",
       "    </tr>\n",
       "    <tr>\n",
       "      <th>2</th>\n",
       "      <td>12</td>\n",
       "      <td>dz</td>\n",
       "      <td>dza</td>\n",
       "      <td>Algeria</td>\n",
       "    </tr>\n",
       "    <tr>\n",
       "      <th>3</th>\n",
       "      <td>20</td>\n",
       "      <td>ad</td>\n",
       "      <td>and</td>\n",
       "      <td>Andorra</td>\n",
       "    </tr>\n",
       "    <tr>\n",
       "      <th>4</th>\n",
       "      <td>24</td>\n",
       "      <td>ao</td>\n",
       "      <td>ago</td>\n",
       "      <td>Angola</td>\n",
       "    </tr>\n",
       "    <tr>\n",
       "      <th>5</th>\n",
       "      <td>28</td>\n",
       "      <td>ag</td>\n",
       "      <td>atg</td>\n",
       "      <td>Antigua and Barbuda</td>\n",
       "    </tr>\n",
       "    <tr>\n",
       "      <th>6</th>\n",
       "      <td>32</td>\n",
       "      <td>ar</td>\n",
       "      <td>arg</td>\n",
       "      <td>Argentina</td>\n",
       "    </tr>\n",
       "    <tr>\n",
       "      <th>7</th>\n",
       "      <td>51</td>\n",
       "      <td>am</td>\n",
       "      <td>arm</td>\n",
       "      <td>Armenia</td>\n",
       "    </tr>\n",
       "    <tr>\n",
       "      <th>8</th>\n",
       "      <td>36</td>\n",
       "      <td>au</td>\n",
       "      <td>aus</td>\n",
       "      <td>Australia</td>\n",
       "    </tr>\n",
       "    <tr>\n",
       "      <th>9</th>\n",
       "      <td>40</td>\n",
       "      <td>at</td>\n",
       "      <td>aut</td>\n",
       "      <td>Austria</td>\n",
       "    </tr>\n",
       "  </tbody>\n",
       "</table>\n",
       "</div>"
      ],
      "text/plain": [
       "   id alpha2 alpha3                 name\n",
       "0   4     af    afg          Afghanistan\n",
       "1   8     al    alb              Albania\n",
       "2  12     dz    dza              Algeria\n",
       "3  20     ad    and              Andorra\n",
       "4  24     ao    ago               Angola\n",
       "5  28     ag    atg  Antigua and Barbuda\n",
       "6  32     ar    arg            Argentina\n",
       "7  51     am    arm              Armenia\n",
       "8  36     au    aus            Australia\n",
       "9  40     at    aut              Austria"
      ]
     },
     "execution_count": 7,
     "metadata": {},
     "output_type": "execute_result"
    }
   ],
   "source": [
    "countries_df.head(10)"
   ]
  },
  {
   "cell_type": "code",
   "execution_count": 8,
   "id": "9e88cb13",
   "metadata": {},
   "outputs": [
    {
     "data": {
      "text/plain": [
       "set()"
      ]
     },
     "execution_count": 8,
     "metadata": {},
     "output_type": "execute_result"
    }
   ],
   "source": [
    "# Check if all countries are in the population dataset\n",
    "countries_id = set(countries_df[\"id\"])\n",
    "locations_id = set(population_df[\"LocID\"])\n",
    "countries_id - locations_id"
   ]
  },
  {
   "cell_type": "code",
   "execution_count": 9,
   "id": "98ea0319",
   "metadata": {},
   "outputs": [],
   "source": [
    "# Filter the dataset with only countries remaining\n",
    "countries_filter = population_df[\"LocID\"].isin(countries_id)\n",
    "countries_population_df = population_df[countries_filter]"
   ]
  },
  {
   "cell_type": "code",
   "execution_count": 10,
   "id": "67a5c755",
   "metadata": {},
   "outputs": [
    {
     "data": {
      "text/plain": [
       "193"
      ]
     },
     "execution_count": 10,
     "metadata": {},
     "output_type": "execute_result"
    }
   ],
   "source": [
    "# Check if the filter works as intended\n",
    "len(countries_population_df[\"LocID\"].drop_duplicates().values)"
   ]
  },
  {
   "cell_type": "code",
   "execution_count": 11,
   "id": "f4f83a47",
   "metadata": {},
   "outputs": [],
   "source": [
    "# Keep only Medium Variant\n",
    "variant_filter = countries_population_df[\"Variant\"] == \"Medium\"\n",
    "countries_population_df = countries_population_df[variant_filter]"
   ]
  },
  {
   "cell_type": "code",
   "execution_count": 12,
   "id": "962fc364",
   "metadata": {},
   "outputs": [
    {
     "data": {
      "text/plain": [
       "[<matplotlib.lines.Line2D at 0x1ac2d208ca0>]"
      ]
     },
     "execution_count": 12,
     "metadata": {},
     "output_type": "execute_result"
    },
    {
     "data": {
      "image/png": "[encoded data removed]",
      "text/plain": [
       "<Figure size 432x288 with 1 Axes>"
      ]
     },
     "metadata": {
      "needs_background": "light"
     },
     "output_type": "display_data"
    }
   ],
   "source": [
    "# Vizualise an example with Afghanistan\n",
    "afghanistan_filter = countries_population_df[\"Location\"] == \"Afghanistan\"\n",
    "afghanistan_population = countries_population_df[afghanistan_filter]\n",
    "plt.plot(afghanistan_population[\"Time\"],afghanistan_population[\"PopTotal\"])"
   ]
  },
  {
   "cell_type": "code",
   "execution_count": 13,
   "id": "42ffbcda",
   "metadata": {},
   "outputs": [],
   "source": [
    "# Agregate all countries to see the world population projection\n",
    "world_population = countries_population_df.groupby(countries_population_df[\"Time\"]).sum()"
   ]
  },
  {
   "cell_type": "code",
   "execution_count": 14,
   "id": "0eef2ca5",
   "metadata": {},
   "outputs": [
    {
     "data": {
      "text/html": [
       "<div>\n",
       "<style scoped>\n",
       "    .dataframe tbody tr th:only-of-type {\n",
       "        vertical-align: middle;\n",
       "    }\n",
       "\n",
       "    .dataframe tbody tr th {\n",
       "        vertical-align: top;\n",
       "    }\n",
       "\n",
       "    .dataframe thead th {\n",
       "        text-align: right;\n",
       "    }\n",
       "</style>\n",
       "<table border=\"1\" class=\"dataframe\">\n",
       "  <thead>\n",
       "    <tr style=\"text-align: right;\">\n",
       "      <th></th>\n",
       "      <th>LocID</th>\n",
       "      <th>VarID</th>\n",
       "      <th>MidPeriod</th>\n",
       "      <th>PopMale</th>\n",
       "      <th>PopFemale</th>\n",
       "      <th>PopTotal</th>\n",
       "      <th>PopDensity</th>\n",
       "    </tr>\n",
       "    <tr>\n",
       "      <th>Time</th>\n",
       "      <th></th>\n",
       "      <th></th>\n",
       "      <th></th>\n",
       "      <th></th>\n",
       "      <th></th>\n",
       "      <th></th>\n",
       "      <th></th>\n",
       "    </tr>\n",
       "  </thead>\n",
       "  <tbody>\n",
       "    <tr>\n",
       "      <th>1950</th>\n",
       "      <td>83623</td>\n",
       "      <td>386</td>\n",
       "      <td>376446.5</td>\n",
       "      <td>1258822.698</td>\n",
       "      <td>1263033.225</td>\n",
       "      <td>2522034.341</td>\n",
       "      <td>25815.765</td>\n",
       "    </tr>\n",
       "    <tr>\n",
       "      <th>1951</th>\n",
       "      <td>83623</td>\n",
       "      <td>386</td>\n",
       "      <td>376639.5</td>\n",
       "      <td>1282589.850</td>\n",
       "      <td>1286452.634</td>\n",
       "      <td>2569222.233</td>\n",
       "      <td>25620.805</td>\n",
       "    </tr>\n",
       "    <tr>\n",
       "      <th>1952</th>\n",
       "      <td>83623</td>\n",
       "      <td>386</td>\n",
       "      <td>376832.5</td>\n",
       "      <td>1305987.156</td>\n",
       "      <td>1309438.418</td>\n",
       "      <td>2615607.416</td>\n",
       "      <td>25659.647</td>\n",
       "    </tr>\n",
       "    <tr>\n",
       "      <th>1953</th>\n",
       "      <td>83623</td>\n",
       "      <td>386</td>\n",
       "      <td>377025.5</td>\n",
       "      <td>1329358.825</td>\n",
       "      <td>1332350.423</td>\n",
       "      <td>2661893.826</td>\n",
       "      <td>25895.817</td>\n",
       "    </tr>\n",
       "    <tr>\n",
       "      <th>1954</th>\n",
       "      <td>83623</td>\n",
       "      <td>386</td>\n",
       "      <td>377218.5</td>\n",
       "      <td>1352987.379</td>\n",
       "      <td>1355482.327</td>\n",
       "      <td>2708657.608</td>\n",
       "      <td>26309.481</td>\n",
       "    </tr>\n",
       "    <tr>\n",
       "      <th>1955</th>\n",
       "      <td>83623</td>\n",
       "      <td>386</td>\n",
       "      <td>377411.5</td>\n",
       "      <td>1377093.526</td>\n",
       "      <td>1379061.682</td>\n",
       "      <td>2756346.853</td>\n",
       "      <td>26853.477</td>\n",
       "    </tr>\n",
       "    <tr>\n",
       "      <th>1956</th>\n",
       "      <td>83623</td>\n",
       "      <td>386</td>\n",
       "      <td>377604.5</td>\n",
       "      <td>1401833.518</td>\n",
       "      <td>1403247.554</td>\n",
       "      <td>2805276.845</td>\n",
       "      <td>27499.798</td>\n",
       "    </tr>\n",
       "    <tr>\n",
       "      <th>1957</th>\n",
       "      <td>83623</td>\n",
       "      <td>386</td>\n",
       "      <td>377797.5</td>\n",
       "      <td>1427302.006</td>\n",
       "      <td>1428132.872</td>\n",
       "      <td>2855634.962</td>\n",
       "      <td>28197.598</td>\n",
       "    </tr>\n",
       "    <tr>\n",
       "      <th>1958</th>\n",
       "      <td>83623</td>\n",
       "      <td>386</td>\n",
       "      <td>377990.5</td>\n",
       "      <td>1453538.598</td>\n",
       "      <td>1453752.327</td>\n",
       "      <td>2907495.421</td>\n",
       "      <td>28910.079</td>\n",
       "    </tr>\n",
       "    <tr>\n",
       "      <th>1959</th>\n",
       "      <td>83623</td>\n",
       "      <td>386</td>\n",
       "      <td>378183.5</td>\n",
       "      <td>1480540.010</td>\n",
       "      <td>1480095.105</td>\n",
       "      <td>2960844.008</td>\n",
       "      <td>29598.263</td>\n",
       "    </tr>\n",
       "  </tbody>\n",
       "</table>\n",
       "</div>"
      ],
      "text/plain": [
       "      LocID  VarID  MidPeriod      PopMale    PopFemale     PopTotal  \\\n",
       "Time                                                                   \n",
       "1950  83623    386   376446.5  1258822.698  1263033.225  2522034.341   \n",
       "1951  83623    386   376639.5  1282589.850  1286452.634  2569222.233   \n",
       "1952  83623    386   376832.5  1305987.156  1309438.418  2615607.416   \n",
       "1953  83623    386   377025.5  1329358.825  1332350.423  2661893.826   \n",
       "1954  83623    386   377218.5  1352987.379  1355482.327  2708657.608   \n",
       "1955  83623    386   377411.5  1377093.526  1379061.682  2756346.853   \n",
       "1956  83623    386   377604.5  1401833.518  1403247.554  2805276.845   \n",
       "1957  83623    386   377797.5  1427302.006  1428132.872  2855634.962   \n",
       "1958  83623    386   377990.5  1453538.598  1453752.327  2907495.421   \n",
       "1959  83623    386   378183.5  1480540.010  1480095.105  2960844.008   \n",
       "\n",
       "      PopDensity  \n",
       "Time              \n",
       "1950   25815.765  \n",
       "1951   25620.805  \n",
       "1952   25659.647  \n",
       "1953   25895.817  \n",
       "1954   26309.481  \n",
       "1955   26853.477  \n",
       "1956   27499.798  \n",
       "1957   28197.598  \n",
       "1958   28910.079  \n",
       "1959   29598.263  "
      ]
     },
     "execution_count": 14,
     "metadata": {},
     "output_type": "execute_result"
    }
   ],
   "source": [
    "world_population.head(10)"
   ]
  },
  {
   "cell_type": "code",
   "execution_count": 15,
   "id": "79d0321a",
   "metadata": {},
   "outputs": [
    {
     "data": {
      "image/png": "[encoded data removed]",
      "text/plain": [
       "<Figure size 864x720 with 1 Axes>"
      ]
     },
     "metadata": {
      "needs_background": "light"
     },
     "output_type": "display_data"
    }
   ],
   "source": [
    "fig, ax = plt.subplots(figsize=(12,10))\n",
    "plt.plot(world_population.index,world_population[\"PopTotal\"]/1000000,color=\"black\",linewidth=2)\n",
    "ax.set_xlabel('Year',fontsize=14)\n",
    "ax.set_ylabel('Population (billions of people)',fontsize=14)  # Add a y-label to the axes.\n",
    "ax.set_title(\"World Population Projection\",fontsize=16)  # Add a title to the axes.\n",
    "plt.savefig(\"figures/world_population_projection\")"
   ]
  },
  {
   "cell_type": "code",
   "execution_count": null,
   "id": "324f1aeb",
   "metadata": {},
   "outputs": [],
   "source": []
  }
 ],
 "metadata": {
  "kernelspec": {
   "display_name": "Python 3",
   "language": "python",
   "name": "python3"
  },
  "language_info": {
   "codemirror_mode": {
    "name": "ipython",
    "version": 3
   },
   "file_extension": ".py",
   "mimetype": "text/x-python",
   "name": "python",
   "nbconvert_exporter": "python",
   "pygments_lexer": "ipython3",
   "version": "3.8.10"
  }
 },
 "nbformat": 4,
 "nbformat_minor": 5
}
